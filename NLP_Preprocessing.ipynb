{
  "cells": [
    {
      "cell_type": "code",
      "execution_count": null,
      "id": "e70d6f9c",
      "metadata": {
        "id": "e70d6f9c"
      },
      "outputs": [],
      "source": [
        "import json\n",
        "import pandas as pd\n",
        "import nltk\n",
        "import numpy as np\n",
        "import torch\n",
        "from transformers import BertTokenizer, BertForSequenceClassification\n",
        "from sklearn.model_selection import train_test_split\n",
        "from torch.utils.data import TensorDataset, DataLoader, RandomSampler, SequentialSampler"
      ]
    },
    {
      "cell_type": "code",
      "execution_count": null,
      "id": "84129903",
      "metadata": {
        "id": "84129903",
        "outputId": "1473aa50-5abd-483e-af29-a3718b5c0987"
      },
      "outputs": [
        {
          "name": "stderr",
          "output_type": "stream",
          "text": [
            "[nltk_data] Downloading package punkt to\n",
            "[nltk_data]     C:\\Users\\rohit\\AppData\\Roaming\\nltk_data...\n",
            "[nltk_data]   Package punkt is already up-to-date!\n"
          ]
        },
        {
          "data": {
            "text/plain": [
              "True"
            ]
          },
          "execution_count": 221,
          "metadata": {},
          "output_type": "execute_result"
        }
      ],
      "source": [
        "nltk.download(\"punkt\")"
      ]
    },
    {
      "cell_type": "markdown",
      "id": "08ee481a",
      "metadata": {
        "id": "08ee481a"
      },
      "source": [
        "### Loading the dataset"
      ]
    },
    {
      "cell_type": "code",
      "execution_count": null,
      "id": "6003646f",
      "metadata": {
        "id": "6003646f"
      },
      "outputs": [],
      "source": [
        "data = json.load(open('E:/Course work/NLP/contract-nli/contract-nli/train.json'))\n",
        "df = pd.DataFrame(data[\"documents\"])"
      ]
    },
    {
      "cell_type": "code",
      "execution_count": null,
      "id": "4ebc8b3c",
      "metadata": {
        "id": "4ebc8b3c",
        "outputId": "97839736-315c-4280-e079-edbdd1eb2a86"
      },
      "outputs": [
        {
          "data": {
            "text/html": [
              "<div>\n",
              "<style scoped>\n",
              "    .dataframe tbody tr th:only-of-type {\n",
              "        vertical-align: middle;\n",
              "    }\n",
              "\n",
              "    .dataframe tbody tr th {\n",
              "        vertical-align: top;\n",
              "    }\n",
              "\n",
              "    .dataframe thead th {\n",
              "        text-align: right;\n",
              "    }\n",
              "</style>\n",
              "<table border=\"1\" class=\"dataframe\">\n",
              "  <thead>\n",
              "    <tr style=\"text-align: right;\">\n",
              "      <th></th>\n",
              "      <th>id</th>\n",
              "      <th>file_name</th>\n",
              "      <th>text</th>\n",
              "      <th>spans</th>\n",
              "      <th>annotation_sets</th>\n",
              "      <th>document_type</th>\n",
              "      <th>url</th>\n",
              "    </tr>\n",
              "  </thead>\n",
              "  <tbody>\n",
              "    <tr>\n",
              "      <th>0</th>\n",
              "      <td>34</td>\n",
              "      <td>Annex E_Non-Disclosure and Confidentiality Agr...</td>\n",
              "      <td>NON-DISCLOSURE AND CONFIDENTIALITY AGREEMENT\\n...</td>\n",
              "      <td>[[0, 44], [45, 132], [133, 331], [332, 417], [...</td>\n",
              "      <td>[{'annotations': {'nda-11': {'choice': 'NotMen...</td>\n",
              "      <td>search-pdf</td>\n",
              "      <td>https://www.ungm.org/UNUser/Documents/Download...</td>\n",
              "    </tr>\n",
              "    <tr>\n",
              "      <th>1</th>\n",
              "      <td>86</td>\n",
              "      <td>CopAcc_NDA-and-ToP-Mentors_2.0_2017.pdf</td>\n",
              "      <td>NON-DISCLOSURE AGREEMENT AND TERMS OF PARTICIP...</td>\n",
              "      <td>[[0, 51], [52, 68], [69, 222], [223, 358], [35...</td>\n",
              "      <td>[{'annotations': {'nda-11': {'choice': 'NotMen...</td>\n",
              "      <td>search-pdf</td>\n",
              "      <td>http://www.copernicus-masters.com/wp-content/u...</td>\n",
              "    </tr>\n",
              "    <tr>\n",
              "      <th>2</th>\n",
              "      <td>87</td>\n",
              "      <td>Cyber Mutual Assistance NDA.pdf</td>\n",
              "      <td>Mutual Non-Disclosure and Use of Information A...</td>\n",
              "      <td>[[0, 54], [55, 99], [100, 400], [401, 423], [4...</td>\n",
              "      <td>[{'annotations': {'nda-11': {'choice': 'NotMen...</td>\n",
              "      <td>search-pdf</td>\n",
              "      <td>https://www.electricitysubsector.org/-/media/F...</td>\n",
              "    </tr>\n",
              "    <tr>\n",
              "      <th>3</th>\n",
              "      <td>88</td>\n",
              "      <td>DBT%20Mutual%20NDA.pdf</td>\n",
              "      <td>MUTUAL NON-DISCLOSURE AGREEMENT\\nThis Non-Disc...</td>\n",
              "      <td>[[0, 31], [32, 142], [142, 276], [277, 440], [...</td>\n",
              "      <td>[{'annotations': {'nda-11': {'choice': 'NotMen...</td>\n",
              "      <td>search-pdf</td>\n",
              "      <td>http://www.databoiler.com/index_htm_files/DBT%...</td>\n",
              "    </tr>\n",
              "    <tr>\n",
              "      <th>4</th>\n",
              "      <td>89</td>\n",
              "      <td>Data Use Agreement New York City.pdf</td>\n",
              "      <td>Data Use And Non-Disclosure Agreement\\nBetween...</td>\n",
              "      <td>[[0, 28], [28, 37], [38, 45], [46, 103], [104,...</td>\n",
              "      <td>[{'annotations': {'nda-11': {'choice': 'NotMen...</td>\n",
              "      <td>search-pdf</td>\n",
              "      <td>http://www.astho.org/Programs/Infectious-Disea...</td>\n",
              "    </tr>\n",
              "  </tbody>\n",
              "</table>\n",
              "</div>"
            ],
            "text/plain": [
              "   id                                          file_name  \\\n",
              "0  34  Annex E_Non-Disclosure and Confidentiality Agr...   \n",
              "1  86            CopAcc_NDA-and-ToP-Mentors_2.0_2017.pdf   \n",
              "2  87                    Cyber Mutual Assistance NDA.pdf   \n",
              "3  88                             DBT%20Mutual%20NDA.pdf   \n",
              "4  89               Data Use Agreement New York City.pdf   \n",
              "\n",
              "                                                text  \\\n",
              "0  NON-DISCLOSURE AND CONFIDENTIALITY AGREEMENT\\n...   \n",
              "1  NON-DISCLOSURE AGREEMENT AND TERMS OF PARTICIP...   \n",
              "2  Mutual Non-Disclosure and Use of Information A...   \n",
              "3  MUTUAL NON-DISCLOSURE AGREEMENT\\nThis Non-Disc...   \n",
              "4  Data Use And Non-Disclosure Agreement\\nBetween...   \n",
              "\n",
              "                                               spans  \\\n",
              "0  [[0, 44], [45, 132], [133, 331], [332, 417], [...   \n",
              "1  [[0, 51], [52, 68], [69, 222], [223, 358], [35...   \n",
              "2  [[0, 54], [55, 99], [100, 400], [401, 423], [4...   \n",
              "3  [[0, 31], [32, 142], [142, 276], [277, 440], [...   \n",
              "4  [[0, 28], [28, 37], [38, 45], [46, 103], [104,...   \n",
              "\n",
              "                                     annotation_sets document_type  \\\n",
              "0  [{'annotations': {'nda-11': {'choice': 'NotMen...    search-pdf   \n",
              "1  [{'annotations': {'nda-11': {'choice': 'NotMen...    search-pdf   \n",
              "2  [{'annotations': {'nda-11': {'choice': 'NotMen...    search-pdf   \n",
              "3  [{'annotations': {'nda-11': {'choice': 'NotMen...    search-pdf   \n",
              "4  [{'annotations': {'nda-11': {'choice': 'NotMen...    search-pdf   \n",
              "\n",
              "                                                 url  \n",
              "0  https://www.ungm.org/UNUser/Documents/Download...  \n",
              "1  http://www.copernicus-masters.com/wp-content/u...  \n",
              "2  https://www.electricitysubsector.org/-/media/F...  \n",
              "3  http://www.databoiler.com/index_htm_files/DBT%...  \n",
              "4  http://www.astho.org/Programs/Infectious-Disea...  "
            ]
          },
          "execution_count": 223,
          "metadata": {},
          "output_type": "execute_result"
        }
      ],
      "source": [
        "df.head()"
      ]
    },
    {
      "cell_type": "markdown",
      "id": "7e232758",
      "metadata": {
        "id": "7e232758"
      },
      "source": [
        "### Sentence Tokenisation and Removing \"\\n\""
      ]
    },
    {
      "cell_type": "code",
      "execution_count": null,
      "id": "ed7450ef",
      "metadata": {
        "id": "ed7450ef"
      },
      "outputs": [],
      "source": [
        "sentences = []\n",
        "for i in range(len(df.text)):\n",
        "    full_sent = nltk.sent_tokenize(df.text[i])\n",
        "    for i in full_sent:\n",
        "        for j in i:\n",
        "            if(not j.isalpha()):\n",
        "                i = i.replace(j, \" \")\n",
        "        if(len(i)<30 and len(i)>700):\n",
        "            continue\n",
        "        else:\n",
        "            i = i.replace(\"\\n\", \" \")\n",
        "            sentences+=[i]\n",
        "\n"
      ]
    },
    {
      "cell_type": "markdown",
      "id": "fcfa5d0e",
      "metadata": {
        "id": "fcfa5d0e"
      },
      "source": [
        "### Generating N-grams from sentences"
      ]
    },
    {
      "cell_type": "code",
      "execution_count": null,
      "id": "405edc39",
      "metadata": {
        "id": "405edc39",
        "outputId": "b3733a20-42e4-4fa7-ce8b-686c774f5577"
      },
      "outputs": [
        {
          "name": "stdout",
          "output_type": "stream",
          "text": [
            "('The', 'Parties', 'have', 'entered', 'into', 'this', 'Agreement', 'to', 'facilitate', 'the', 'transfer', 'of', 'information', 'between', 'them')\n",
            "('Purpose', 'and', 'solely', 'for', 'that', 'Purpose', 'the', 'Parties', 'have', 'disclosed', 'or', 'may', 'disclose', 'to', 'each')\n"
          ]
        }
      ],
      "source": [
        "from nltk.util import ngrams\n",
        "from nltk.tokenize import word_tokenize\n",
        "\n",
        "n_gram_sentence = \"The Parties have entered into this Agreement to facilitate the transfer of information between them and or one or more of their Affiliates in order for the Parties to evaluate whether or not to pursue a potential business opportunity or collaboration with respect to the development and commercialization of Prosensa s products including  but not limited to  Drisapersen  the  Purpose    and solely for that Purpose  the Parties have disclosed or may disclose to each other information that is proprietary and or confidential to the Disclosing Party which it desires be treated as confidential \"\n",
        "n_gram_sentence\n",
        "\n",
        "tokenized_sentence = word_tokenize(n_gram_sentence)\n",
        "output = list(ngrams(tokenized_sentence, 15))\n",
        "\n",
        "print(output[0])\n",
        "print(output[len(output) - 20])"
      ]
    },
    {
      "cell_type": "code",
      "execution_count": null,
      "id": "9dae580d",
      "metadata": {
        "id": "9dae580d"
      },
      "outputs": [],
      "source": [
        "sentences1 = sentences"
      ]
    },
    {
      "cell_type": "code",
      "execution_count": null,
      "id": "cb5bb85d",
      "metadata": {
        "id": "cb5bb85d",
        "outputId": "5a234da9-07f8-450f-b2e6-b0df632613c3"
      },
      "outputs": [
        {
          "name": "stderr",
          "output_type": "stream",
          "text": [
            "[nltk_data] Downloading package stopwords to\n",
            "[nltk_data]     C:\\Users\\rohit\\AppData\\Roaming\\nltk_data...\n",
            "[nltk_data]   Package stopwords is already up-to-date!\n"
          ]
        },
        {
          "name": "stdout",
          "output_type": "stream",
          "text": [
            "The Recipient acknowledges UNHCR hereto makes representation warranty express implied accuracy completeness Confidential Information\n"
          ]
        }
      ],
      "source": [
        "from nltk.corpus import stopwords\n",
        "nltk.download('stopwords')\n",
        "en_stopwords = set(stopwords.words('english'))\n",
        "\n",
        "for i in range(len(sentences)):\n",
        "    tokenized_text = word_tokenize(sentences[i])\n",
        "    filtered_text = [token for token in tokenized_text if token not in en_stopwords]\n",
        "    sentences[i] = \" \".join(filtered_text)\n",
        "print(sentences[10])"
      ]
    },
    {
      "cell_type": "code",
      "execution_count": null,
      "id": "39bbe248",
      "metadata": {
        "id": "39bbe248"
      },
      "outputs": [],
      "source": [
        "try:\n",
        "    while True:\n",
        "        sentences.remove('')\n",
        "except ValueError:\n",
        "    pass"
      ]
    },
    {
      "cell_type": "code",
      "execution_count": null,
      "id": "fafe8562",
      "metadata": {
        "id": "fafe8562"
      },
      "outputs": [],
      "source": [
        "ctr=0\n",
        "for i in sentences:\n",
        "    if(len(i)<30):\n",
        "        sentences.remove(i)\n",
        "        ctr+=1\n",
        "        continue\n",
        "\n"
      ]
    },
    {
      "cell_type": "code",
      "execution_count": null,
      "id": "32f44357",
      "metadata": {
        "id": "32f44357",
        "outputId": "d19be2fb-7c20-4999-f778-52768daff761"
      },
      "outputs": [
        {
          "data": {
            "text/plain": [
              "2474"
            ]
          },
          "execution_count": 230,
          "metadata": {},
          "output_type": "execute_result"
        }
      ],
      "source": [
        "ctr"
      ]
    },
    {
      "cell_type": "code",
      "execution_count": null,
      "id": "583d7c62",
      "metadata": {
        "id": "583d7c62"
      },
      "outputs": [],
      "source": [
        "df1 = pd.DataFrame(data = sentences, columns = [\"text\"])\n",
        "\n",
        "df1.to_excel(\"E:/Course work/NLP/contract-nli/contract-nli/a.xlsx\")"
      ]
    },
    {
      "cell_type": "code",
      "execution_count": null,
      "id": "b35169d5",
      "metadata": {
        "id": "b35169d5",
        "outputId": "11a26b2a-0128-4bb6-a709-cbadb981fcfe"
      },
      "outputs": [
        {
          "data": {
            "text/html": [
              "<div>\n",
              "<style scoped>\n",
              "    .dataframe tbody tr th:only-of-type {\n",
              "        vertical-align: middle;\n",
              "    }\n",
              "\n",
              "    .dataframe tbody tr th {\n",
              "        vertical-align: top;\n",
              "    }\n",
              "\n",
              "    .dataframe thead th {\n",
              "        text-align: right;\n",
              "    }\n",
              "</style>\n",
              "<table border=\"1\" class=\"dataframe\">\n",
              "  <thead>\n",
              "    <tr style=\"text-align: right;\">\n",
              "      <th></th>\n",
              "      <th>text</th>\n",
              "    </tr>\n",
              "  </thead>\n",
              "  <tbody>\n",
              "    <tr>\n",
              "      <th>0</th>\n",
              "      <td>NON DISCLOSURE AND CONFIDENTIALITY AGREEMENT T...</td>\n",
              "    </tr>\n",
              "    <tr>\n",
              "      <th>1</th>\n",
              "      <td>The Discloser Recipient also referred collecti...</td>\n",
              "    </tr>\n",
              "    <tr>\n",
              "      <th>2</th>\n",
              "      <td>RECITALS WHEREAS connection RFP Request Propos...</td>\n",
              "    </tr>\n",
              "    <tr>\n",
              "      <th>3</th>\n",
              "      <td>Confidential Information whenever used Agreeme...</td>\n",
              "    </tr>\n",
              "    <tr>\n",
              "      <th>4</th>\n",
              "      <td>The Confidential Information delivered otherwi...</td>\n",
              "    </tr>\n",
              "  </tbody>\n",
              "</table>\n",
              "</div>"
            ],
            "text/plain": [
              "                                                text\n",
              "0  NON DISCLOSURE AND CONFIDENTIALITY AGREEMENT T...\n",
              "1  The Discloser Recipient also referred collecti...\n",
              "2  RECITALS WHEREAS connection RFP Request Propos...\n",
              "3  Confidential Information whenever used Agreeme...\n",
              "4  The Confidential Information delivered otherwi..."
            ]
          },
          "execution_count": 232,
          "metadata": {},
          "output_type": "execute_result"
        }
      ],
      "source": [
        "df1.head()"
      ]
    },
    {
      "cell_type": "code",
      "execution_count": null,
      "id": "5e54e107",
      "metadata": {
        "id": "5e54e107",
        "colab": {
          "base_uri": "https://localhost:8080/",
          "height": 167
        },
        "outputId": "e30de45b-8c6f-44ba-f86b-928c1320d185"
      },
      "outputs": [
        {
          "output_type": "error",
          "ename": "NameError",
          "evalue": "ignored",
          "traceback": [
            "\u001b[0;31m---------------------------------------------------------------------------\u001b[0m",
            "\u001b[0;31mNameError\u001b[0m                                 Traceback (most recent call last)",
            "\u001b[0;32m<ipython-input-3-c00cc7163e27>\u001b[0m in \u001b[0;36m<cell line: 1>\u001b[0;34m()\u001b[0m\n\u001b[0;32m----> 1\u001b[0;31m \u001b[0mtrain_df\u001b[0m \u001b[0;34m=\u001b[0m \u001b[0mpd\u001b[0m\u001b[0;34m.\u001b[0m\u001b[0mread_excel\u001b[0m\u001b[0;34m(\u001b[0m\u001b[0;34m'E:/Course work/NLP/labelled_dataset.xlsx'\u001b[0m\u001b[0;34m)\u001b[0m\u001b[0;34m\u001b[0m\u001b[0;34m\u001b[0m\u001b[0m\n\u001b[0m",
            "\u001b[0;31mNameError\u001b[0m: name 'pd' is not defined"
          ]
        }
      ],
      "source": [
        "train_df = pd.read_excel('E:/Course work/NLP/labelled_dataset.xlsx')"
      ]
    },
    {
      "cell_type": "code",
      "execution_count": null,
      "id": "eb094dbd",
      "metadata": {
        "id": "eb094dbd",
        "outputId": "4637f217-0ac3-4834-ae7f-56eb14c4108c"
      },
      "outputs": [
        {
          "data": {
            "text/html": [
              "<div>\n",
              "<style scoped>\n",
              "    .dataframe tbody tr th:only-of-type {\n",
              "        vertical-align: middle;\n",
              "    }\n",
              "\n",
              "    .dataframe tbody tr th {\n",
              "        vertical-align: top;\n",
              "    }\n",
              "\n",
              "    .dataframe thead th {\n",
              "        text-align: right;\n",
              "    }\n",
              "</style>\n",
              "<table border=\"1\" class=\"dataframe\">\n",
              "  <thead>\n",
              "    <tr style=\"text-align: right;\">\n",
              "      <th></th>\n",
              "      <th>text</th>\n",
              "      <th>label</th>\n",
              "    </tr>\n",
              "  </thead>\n",
              "  <tbody>\n",
              "    <tr>\n",
              "      <th>0</th>\n",
              "      <td>The Confidential Information delivered otherwi...</td>\n",
              "      <td>P</td>\n",
              "    </tr>\n",
              "    <tr>\n",
              "      <th>1</th>\n",
              "      <td>The Recipient may disclose Confidential Inform...</td>\n",
              "      <td>P</td>\n",
              "    </tr>\n",
              "    <tr>\n",
              "      <th>2</th>\n",
              "      <td>The Recipient shall precluded disclosing Confi...</td>\n",
              "      <td>O</td>\n",
              "    </tr>\n",
              "    <tr>\n",
              "      <th>3</th>\n",
              "      <td>The Recipient agrees indemnify UNHCR respect e...</td>\n",
              "      <td>O</td>\n",
              "    </tr>\n",
              "    <tr>\n",
              "      <th>4</th>\n",
              "      <td>Nothing Agreement shall construed obligating P...</td>\n",
              "      <td>O</td>\n",
              "    </tr>\n",
              "  </tbody>\n",
              "</table>\n",
              "</div>"
            ],
            "text/plain": [
              "                                                text label\n",
              "0  The Confidential Information delivered otherwi...     P\n",
              "1  The Recipient may disclose Confidential Inform...     P\n",
              "2  The Recipient shall precluded disclosing Confi...     O\n",
              "3  The Recipient agrees indemnify UNHCR respect e...     O\n",
              "4  Nothing Agreement shall construed obligating P...     O"
            ]
          },
          "execution_count": 238,
          "metadata": {},
          "output_type": "execute_result"
        }
      ],
      "source": [
        "train_df.head()"
      ]
    },
    {
      "cell_type": "code",
      "execution_count": null,
      "id": "a1b4c133",
      "metadata": {
        "id": "a1b4c133"
      },
      "outputs": [],
      "source": [
        "train_df = train_df.dropna()"
      ]
    },
    {
      "cell_type": "code",
      "execution_count": null,
      "id": "446472c9",
      "metadata": {
        "id": "446472c9",
        "outputId": "8b14b9b1-f703-4a71-e5e8-30a4791c42e2"
      },
      "outputs": [
        {
          "data": {
            "text/plain": [
              "P    286\n",
              "O    245\n",
              "F     88\n",
              "Name: label, dtype: int64"
            ]
          },
          "execution_count": 240,
          "metadata": {},
          "output_type": "execute_result"
        }
      ],
      "source": [
        "train_df[\"label\"].value_counts()"
      ]
    },
    {
      "cell_type": "code",
      "execution_count": null,
      "id": "4bba00bb",
      "metadata": {
        "id": "4bba00bb",
        "outputId": "4be06c80-d17d-413f-9551-96bf3043c27e"
      },
      "outputs": [
        {
          "data": {
            "text/plain": [
              "{'P': 0, 'O': 1, 'F': 2}"
            ]
          },
          "execution_count": 243,
          "metadata": {},
          "output_type": "execute_result"
        }
      ],
      "source": [
        "possible_labels = train_df.label.unique()\n",
        "\n",
        "label_dict = {}\n",
        "for index, possible_label in enumerate(possible_labels):\n",
        "    label_dict[possible_label] = index\n",
        "label_dict"
      ]
    },
    {
      "cell_type": "code",
      "execution_count": null,
      "id": "dd10a288",
      "metadata": {
        "id": "dd10a288",
        "colab": {
          "base_uri": "https://localhost:8080/",
          "height": 167
        },
        "outputId": "42de7757-5c40-449c-dd76-8e5f63276da2"
      },
      "outputs": [
        {
          "output_type": "error",
          "ename": "NameError",
          "evalue": "ignored",
          "traceback": [
            "\u001b[0;31m---------------------------------------------------------------------------\u001b[0m",
            "\u001b[0;31mNameError\u001b[0m                                 Traceback (most recent call last)",
            "\u001b[0;32m<ipython-input-4-a49af77b83a3>\u001b[0m in \u001b[0;36m<cell line: 1>\u001b[0;34m()\u001b[0m\n\u001b[0;32m----> 1\u001b[0;31m \u001b[0mtrain_df\u001b[0m\u001b[0;34m[\u001b[0m\u001b[0;34m'label'\u001b[0m\u001b[0;34m]\u001b[0m \u001b[0;34m=\u001b[0m \u001b[0mtrain_df\u001b[0m\u001b[0;34m.\u001b[0m\u001b[0mlabel\u001b[0m\u001b[0;34m.\u001b[0m\u001b[0mreplace\u001b[0m\u001b[0;34m(\u001b[0m\u001b[0mlabel_dict\u001b[0m\u001b[0;34m)\u001b[0m\u001b[0;34m\u001b[0m\u001b[0;34m\u001b[0m\u001b[0m\n\u001b[0m",
            "\u001b[0;31mNameError\u001b[0m: name 'train_df' is not defined"
          ]
        }
      ],
      "source": [
        "train_df['label'] = train_df.label.replace(label_dict)"
      ]
    },
    {
      "cell_type": "code",
      "execution_count": null,
      "id": "453f037c",
      "metadata": {
        "id": "453f037c"
      },
      "outputs": [],
      "source": []
    }
  ],
  "metadata": {
    "kernelspec": {
      "display_name": "Python 3 (ipykernel)",
      "language": "python",
      "name": "python3"
    },
    "language_info": {
      "codemirror_mode": {
        "name": "ipython",
        "version": 3
      },
      "file_extension": ".py",
      "mimetype": "text/x-python",
      "name": "python",
      "nbconvert_exporter": "python",
      "pygments_lexer": "ipython3",
      "version": "3.9.13"
    },
    "colab": {
      "provenance": []
    }
  },
  "nbformat": 4,
  "nbformat_minor": 5
}